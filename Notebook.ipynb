{
 "cells": [
  {
   "cell_type": "markdown",
   "metadata": {},
   "source": [
    "# Coursera_Capstone\n",
    "### This note book is mainly used for the capstone project"
   ]
  },
  {
   "cell_type": "code",
   "execution_count": 1,
   "metadata": {},
   "outputs": [],
   "source": [
    "#import packages\n",
    "import pandas as pd\n",
    "import pylab as pl\n",
    "import numpy as np\n",
    "import seaborn as sns\n",
    "import scipy.optimize as opt\n",
    "from sklearn import preprocessing\n",
    "%matplotlib inline \n",
    "import matplotlib.pyplot as plt\n",
    "from sklearn.model_selection import train_test_split\n",
    "from sklearn.neighbors import KNeighborsClassifier\n",
    "from sklearn.linear_model import LogisticRegression\n",
    "from sklearn.metrics import confusion_matrix\n",
    "from sklearn import metrics\n",
    "from sklearn import preprocessing\n",
    "from sklearn.metrics import jaccard_score\n",
    "from sklearn.metrics import f1_score\n",
    "from sklearn.metrics import log_loss"
   ]
  },
  {
   "cell_type": "code",
   "execution_count": 2,
   "metadata": {},
   "outputs": [
    {
     "name": "stderr",
     "output_type": "stream",
     "text": [
      "C:\\Users\\Shen\\Anaconda3\\lib\\site-packages\\IPython\\core\\interactiveshell.py:3057: DtypeWarning: Columns (0) have mixed types. Specify dtype option on import or set low_memory=False.\n",
      "  interactivity=interactivity, compiler=compiler, result=result)\n"
     ]
    },
    {
     "data": {
      "text/plain": [
       "(122635, 32)"
      ]
     },
     "execution_count": 2,
     "metadata": {},
     "output_type": "execute_result"
    }
   ],
   "source": [
    "#read data\n",
    "df = pd.read_csv(\"D:\\IBM Data Scientist\\9  Applied Data Science Capstone\\Project dataset\\dftRoadSafetyData_Accidents_2018.csv\")\n",
    "df.shape"
   ]
  },
  {
   "cell_type": "code",
   "execution_count": 3,
   "metadata": {},
   "outputs": [
    {
     "data": {
      "text/plain": [
       "Index(['Accident_Severity', 'Number_of_Vehicles', 'Number_of_Casualties',\n",
       "       'Day_of_Week', 'Speed_limit', 'Junction_Detail',\n",
       "       'Pedestrian_Crossing-Human_Control',\n",
       "       'Pedestrian_Crossing-Physical_Facilities', 'Light_Conditions',\n",
       "       'Weather_Conditions', 'Road_Surface_Conditions', 'Carriageway_Hazards',\n",
       "       'Urban_or_Rural_Area', 'Did_Police_Officer_Attend_Scene_of_Accident'],\n",
       "      dtype='object')"
      ]
     },
     "execution_count": 3,
     "metadata": {},
     "output_type": "execute_result"
    }
   ],
   "source": [
    "#drop variables that will not be used\n",
    "df = df.drop(['Accident_Index', 'Location_Easting_OSGR', 'Location_Northing_OSGR', 'Longitude', \n",
    "              'Latitude', 'Date', 'Local_Authority_(District)', 'Local_Authority_(Highway)', \n",
    "             '1st_Road_Class', '1st_Road_Number',  '2nd_Road_Class', '2nd_Road_Number', 'Police_Force','Time',\n",
    "              'LSOA_of_Accident_Location',  'Special_Conditions_at_Site', \n",
    "              'Junction_Control','Road_Type'], axis = 1)\n",
    "df.columns"
   ]
  },
  {
   "cell_type": "code",
   "execution_count": 4,
   "metadata": {},
   "outputs": [],
   "source": [
    "#delete missing value\n",
    "df = df[df['Did_Police_Officer_Attend_Scene_of_Accident'] != -1]\n",
    "df = df[df['Urban_or_Rural_Area'] != -1]\n",
    "df = df[df['Urban_or_Rural_Area'] != 3]\n",
    "df = df[df['Junction_Detail'] != -1]\n",
    "df = df[df['Junction_Detail'] != 9]\n",
    "df = df[df['Light_Conditions'] != 7]\n",
    "df = df[df['Weather_Conditions'] != 9]\n",
    "df = df[df['Weather_Conditions'] != -1]\n",
    "df = df[df['Weather_Conditions'] != 8]\n",
    "df = df[df['Road_Surface_Conditions'] != -1]\n",
    "df = df[df['Carriageway_Hazards'] != -1]\n",
    "df = df[df['Pedestrian_Crossing-Human_Control'] !=-1]\n",
    "df = df[df['Pedestrian_Crossing-Physical_Facilities'] !=-1]\n",
    "\n",
    "#get dummy variable from categorical vairables\n",
    "df['Junction_Detail'].replace([2,3,4,5,6,7,8], 1, inplace = True)\n",
    "df['Road_Surface_Conditions'].replace([2,3,4,5], 0, inplace = True)\n",
    "df['Weather_Conditions'].replace([2,3,4,5,6,7], 0, inplace = True)\n",
    "df['Light_Conditions'].replace([4,5,6],0, inplace = True)\n",
    "df['Day_of_Week'].replace([2,3,4,5],1, inplace = True)\n",
    "df['Day_of_Week'].replace([6,7],0, inplace = True)\n",
    "df['Carriageway_Hazards'].replace([2,3,4,5,6,7],1, inplace = True)\n",
    "df['Pedestrian_Crossing-Physical_Facilities'].replace([2,3,4,5,6,7,8],1, inplace = True)\n",
    "df['Pedestrian_Crossing-Human_Control'].replace(2, 1, inplace = True)\n",
    "df['Did_Police_Officer_Attend_Scene_of_Accident'].replace([2,3], 0, inplace = True)"
   ]
  },
  {
   "cell_type": "code",
   "execution_count": 5,
   "metadata": {},
   "outputs": [
    {
     "data": {
      "text/plain": [
       "3    84567\n",
       "2    20920\n",
       "1     1550\n",
       "Name: Accident_Severity, dtype: int64"
      ]
     },
     "execution_count": 5,
     "metadata": {},
     "output_type": "execute_result"
    }
   ],
   "source": [
    "df.shape\n",
    "df['Accident_Severity'].value_counts()"
   ]
  },
  {
   "cell_type": "code",
   "execution_count": 6,
   "metadata": {},
   "outputs": [
    {
     "data": {
      "text/plain": [
       "0    44567\n",
       "1    22470\n",
       "Name: Accident_Severity, dtype: int64"
      ]
     },
     "execution_count": 6,
     "metadata": {},
     "output_type": "execute_result"
    }
   ],
   "source": [
    "drop_rows_index = df[df['Accident_Severity']==3].index.values\n",
    "drop_rows_index = drop_rows_index[0:40000]\n",
    "df = df.drop(drop_rows_index, axis = 0)\n",
    "df['Accident_Severity'].replace([3,2],[0,1], inplace = True)\n",
    "df['Accident_Severity'].value_counts()"
   ]
  },
  {
   "cell_type": "code",
   "execution_count": 7,
   "metadata": {},
   "outputs": [],
   "source": [
    "#Exploratory data analysis\n",
    "EDA = df.copy(deep=True)"
   ]
  },
  {
   "cell_type": "code",
   "execution_count": 8,
   "metadata": {},
   "outputs": [],
   "source": [
    "EDA['Accident_Severity'].replace([1,0],['serious', 'slight'], inplace = True)\n",
    "EDA['Weather_Conditions'].replace([1,0],['fine', 'not_fine'], inplace = True)\n",
    "EDA['Light_Conditions'].replace([1,0],['daylight','not_daylight'], inplace=True)\n",
    "EDA['Road_Surface_Conditions'].replace([1,0],['not_dry','dry'], inplace=True)\n",
    "EDA['Junction_Detail'].replace([1,0],['at_junctino','not_at_junction'], inplace=True)"
   ]
  },
  {
   "cell_type": "code",
   "execution_count": 9,
   "metadata": {},
   "outputs": [
    {
     "data": {
      "text/html": [
       "<div>\n",
       "<style scoped>\n",
       "    .dataframe tbody tr th:only-of-type {\n",
       "        vertical-align: middle;\n",
       "    }\n",
       "\n",
       "    .dataframe tbody tr th {\n",
       "        vertical-align: top;\n",
       "    }\n",
       "\n",
       "    .dataframe thead th {\n",
       "        text-align: right;\n",
       "    }\n",
       "</style>\n",
       "<table border=\"1\" class=\"dataframe\">\n",
       "  <thead>\n",
       "    <tr style=\"text-align: right;\">\n",
       "      <th></th>\n",
       "      <th></th>\n",
       "      <th>Weather_Conditions</th>\n",
       "    </tr>\n",
       "    <tr>\n",
       "      <th>Accident_Severity</th>\n",
       "      <th>Weather_Conditions</th>\n",
       "      <th></th>\n",
       "    </tr>\n",
       "  </thead>\n",
       "  <tbody>\n",
       "    <tr>\n",
       "      <th rowspan=\"2\" valign=\"top\">serious</th>\n",
       "      <th>fine</th>\n",
       "      <td>0.859769</td>\n",
       "    </tr>\n",
       "    <tr>\n",
       "      <th>not_fine</th>\n",
       "      <td>0.140231</td>\n",
       "    </tr>\n",
       "    <tr>\n",
       "      <th rowspan=\"2\" valign=\"top\">slight</th>\n",
       "      <th>fine</th>\n",
       "      <td>0.845962</td>\n",
       "    </tr>\n",
       "    <tr>\n",
       "      <th>not_fine</th>\n",
       "      <td>0.154038</td>\n",
       "    </tr>\n",
       "  </tbody>\n",
       "</table>\n",
       "</div>"
      ],
      "text/plain": [
       "                                      Weather_Conditions\n",
       "Accident_Severity Weather_Conditions                    \n",
       "serious           fine                          0.859769\n",
       "                  not_fine                      0.140231\n",
       "slight            fine                          0.845962\n",
       "                  not_fine                      0.154038"
      ]
     },
     "execution_count": 9,
     "metadata": {},
     "output_type": "execute_result"
    }
   ],
   "source": [
    "EDA1 = EDA.groupby(['Accident_Severity'])['Weather_Conditions'].value_counts(normalize=True)\n",
    "pd.DataFrame(EDA1)"
   ]
  },
  {
   "cell_type": "code",
   "execution_count": 10,
   "metadata": {},
   "outputs": [
    {
     "data": {
      "text/html": [
       "<div>\n",
       "<style scoped>\n",
       "    .dataframe tbody tr th:only-of-type {\n",
       "        vertical-align: middle;\n",
       "    }\n",
       "\n",
       "    .dataframe tbody tr th {\n",
       "        vertical-align: top;\n",
       "    }\n",
       "\n",
       "    .dataframe thead th {\n",
       "        text-align: right;\n",
       "    }\n",
       "</style>\n",
       "<table border=\"1\" class=\"dataframe\">\n",
       "  <thead>\n",
       "    <tr style=\"text-align: right;\">\n",
       "      <th></th>\n",
       "      <th></th>\n",
       "      <th>Light_Conditions</th>\n",
       "    </tr>\n",
       "    <tr>\n",
       "      <th>Accident_Severity</th>\n",
       "      <th>Light_Conditions</th>\n",
       "      <th></th>\n",
       "    </tr>\n",
       "  </thead>\n",
       "  <tbody>\n",
       "    <tr>\n",
       "      <th rowspan=\"2\" valign=\"top\">serious</th>\n",
       "      <th>daylight</th>\n",
       "      <td>0.699421</td>\n",
       "    </tr>\n",
       "    <tr>\n",
       "      <th>not_daylight</th>\n",
       "      <td>0.300579</td>\n",
       "    </tr>\n",
       "    <tr>\n",
       "      <th rowspan=\"2\" valign=\"top\">slight</th>\n",
       "      <th>daylight</th>\n",
       "      <td>0.763166</td>\n",
       "    </tr>\n",
       "    <tr>\n",
       "      <th>not_daylight</th>\n",
       "      <td>0.236834</td>\n",
       "    </tr>\n",
       "  </tbody>\n",
       "</table>\n",
       "</div>"
      ],
      "text/plain": [
       "                                    Light_Conditions\n",
       "Accident_Severity Light_Conditions                  \n",
       "serious           daylight                  0.699421\n",
       "                  not_daylight              0.300579\n",
       "slight            daylight                  0.763166\n",
       "                  not_daylight              0.236834"
      ]
     },
     "execution_count": 10,
     "metadata": {},
     "output_type": "execute_result"
    }
   ],
   "source": [
    "EDA2 = EDA.groupby(['Accident_Severity'])['Light_Conditions'].value_counts(normalize=True)\n",
    "pd.DataFrame(EDA2)"
   ]
  },
  {
   "cell_type": "code",
   "execution_count": 11,
   "metadata": {},
   "outputs": [
    {
     "data": {
      "text/html": [
       "<div>\n",
       "<style scoped>\n",
       "    .dataframe tbody tr th:only-of-type {\n",
       "        vertical-align: middle;\n",
       "    }\n",
       "\n",
       "    .dataframe tbody tr th {\n",
       "        vertical-align: top;\n",
       "    }\n",
       "\n",
       "    .dataframe thead th {\n",
       "        text-align: right;\n",
       "    }\n",
       "</style>\n",
       "<table border=\"1\" class=\"dataframe\">\n",
       "  <thead>\n",
       "    <tr style=\"text-align: right;\">\n",
       "      <th></th>\n",
       "      <th></th>\n",
       "      <th>Road_Surface_Conditions</th>\n",
       "    </tr>\n",
       "    <tr>\n",
       "      <th>Accident_Severity</th>\n",
       "      <th>Road_Surface_Conditions</th>\n",
       "      <th></th>\n",
       "    </tr>\n",
       "  </thead>\n",
       "  <tbody>\n",
       "    <tr>\n",
       "      <th rowspan=\"2\" valign=\"top\">serious</th>\n",
       "      <th>not_dry</th>\n",
       "      <td>0.748109</td>\n",
       "    </tr>\n",
       "    <tr>\n",
       "      <th>dry</th>\n",
       "      <td>0.251891</td>\n",
       "    </tr>\n",
       "    <tr>\n",
       "      <th rowspan=\"2\" valign=\"top\">slight</th>\n",
       "      <th>not_dry</th>\n",
       "      <td>0.729845</td>\n",
       "    </tr>\n",
       "    <tr>\n",
       "      <th>dry</th>\n",
       "      <td>0.270155</td>\n",
       "    </tr>\n",
       "  </tbody>\n",
       "</table>\n",
       "</div>"
      ],
      "text/plain": [
       "                                           Road_Surface_Conditions\n",
       "Accident_Severity Road_Surface_Conditions                         \n",
       "serious           not_dry                                 0.748109\n",
       "                  dry                                     0.251891\n",
       "slight            not_dry                                 0.729845\n",
       "                  dry                                     0.270155"
      ]
     },
     "execution_count": 11,
     "metadata": {},
     "output_type": "execute_result"
    }
   ],
   "source": [
    "EDA3 = EDA.groupby(['Accident_Severity'])['Road_Surface_Conditions'].value_counts(normalize=True)\n",
    "pd.DataFrame(EDA3)"
   ]
  },
  {
   "cell_type": "code",
   "execution_count": 12,
   "metadata": {},
   "outputs": [
    {
     "data": {
      "text/html": [
       "<div>\n",
       "<style scoped>\n",
       "    .dataframe tbody tr th:only-of-type {\n",
       "        vertical-align: middle;\n",
       "    }\n",
       "\n",
       "    .dataframe tbody tr th {\n",
       "        vertical-align: top;\n",
       "    }\n",
       "\n",
       "    .dataframe thead th {\n",
       "        text-align: right;\n",
       "    }\n",
       "</style>\n",
       "<table border=\"1\" class=\"dataframe\">\n",
       "  <thead>\n",
       "    <tr style=\"text-align: right;\">\n",
       "      <th></th>\n",
       "      <th></th>\n",
       "      <th>Junction_Detail</th>\n",
       "    </tr>\n",
       "    <tr>\n",
       "      <th>Accident_Severity</th>\n",
       "      <th>Junction_Detail</th>\n",
       "      <th></th>\n",
       "    </tr>\n",
       "  </thead>\n",
       "  <tbody>\n",
       "    <tr>\n",
       "      <th rowspan=\"2\" valign=\"top\">serious</th>\n",
       "      <th>at_junctino</th>\n",
       "      <td>0.505073</td>\n",
       "    </tr>\n",
       "    <tr>\n",
       "      <th>not_at_junction</th>\n",
       "      <td>0.494927</td>\n",
       "    </tr>\n",
       "    <tr>\n",
       "      <th rowspan=\"2\" valign=\"top\">slight</th>\n",
       "      <th>at_junctino</th>\n",
       "      <td>0.516705</td>\n",
       "    </tr>\n",
       "    <tr>\n",
       "      <th>not_at_junction</th>\n",
       "      <td>0.483295</td>\n",
       "    </tr>\n",
       "  </tbody>\n",
       "</table>\n",
       "</div>"
      ],
      "text/plain": [
       "                                   Junction_Detail\n",
       "Accident_Severity Junction_Detail                 \n",
       "serious           at_junctino             0.505073\n",
       "                  not_at_junction         0.494927\n",
       "slight            at_junctino             0.516705\n",
       "                  not_at_junction         0.483295"
      ]
     },
     "execution_count": 12,
     "metadata": {},
     "output_type": "execute_result"
    }
   ],
   "source": [
    "EDA4 = EDA.groupby(['Accident_Severity'])['Junction_Detail'].value_counts(normalize=True)\n",
    "pd.DataFrame(EDA4)"
   ]
  },
  {
   "cell_type": "code",
   "execution_count": 13,
   "metadata": {},
   "outputs": [],
   "source": [
    "#combine features\n",
    "numeric_features = df[['Number_of_Vehicles', 'Number_of_Casualties', 'Speed_limit']]\n",
    "X1 = preprocessing.StandardScaler().fit(numeric_features).transform(numeric_features)\n",
    "X1 = pd.DataFrame(X1)\n",
    "X2 = df.drop(['Accident_Severity','Number_of_Vehicles', 'Number_of_Casualties', 'Speed_limit'], axis = 1)\n",
    "X2 = X2.reset_index(drop=True)"
   ]
  },
  {
   "cell_type": "code",
   "execution_count": 14,
   "metadata": {},
   "outputs": [],
   "source": [
    "X = pd.concat([X1, X2], axis=1)\n",
    "y = df['Accident_Severity'].values"
   ]
  },
  {
   "cell_type": "code",
   "execution_count": 15,
   "metadata": {},
   "outputs": [
    {
     "name": "stdout",
     "output_type": "stream",
     "text": [
      "Train set: (46925, 13) (46925,)\n",
      "Test set: (20112, 13) (20112,)\n"
     ]
    }
   ],
   "source": [
    "#split traning / testing dataset\n",
    "X_train, X_test, Y_train, Y_test = train_test_split( X, y, test_size=0.3, random_state=4)\n",
    "print ('Train set:', X_train.shape,  Y_train.shape)\n",
    "print ('Test set:', X_test.shape,  Y_test.shape)"
   ]
  },
  {
   "cell_type": "code",
   "execution_count": 16,
   "metadata": {},
   "outputs": [],
   "source": [
    "#modeling\n",
    "from sklearn.linear_model import LogisticRegression\n",
    "from sklearn.svm import SVC, LinearSVC\n",
    "from sklearn.ensemble import RandomForestClassifier\n",
    "from sklearn.neighbors import KNeighborsClassifier\n",
    "from sklearn.tree import DecisionTreeClassifier\n",
    "\n",
    "#SVM\n",
    "svc = SVC()\n",
    "svc.fit(X_train, Y_train)\n",
    "Y_pred = svc.predict(X_test)\n",
    "acc_svc = round(svc.score(X_test, Y_test) * 100, 2)\n",
    "jaccard_svc = round(jaccard_score(Y_test, Y_pred) * 100, 2)\n",
    "f1_svc = round(f1_score(Y_test, Y_pred, average='weighted') * 100, 2)\n",
    "\n",
    "#KNN\n",
    "knn = KNeighborsClassifier(n_neighbors = 7)\n",
    "knn.fit(X_train, Y_train)\n",
    "Y_pred = knn.predict(X_test)\n",
    "acc_knn = round(knn.score(X_test, Y_test) * 100, 2)\n",
    "jaccard_knn = round(jaccard_score(Y_test, Y_pred) * 100, 2)\n",
    "f1_knn = round(f1_score(Y_test, Y_pred, average='weighted') * 100, 2)\n",
    "\n",
    "# Logistic Regression\n",
    "logreg = LogisticRegression()\n",
    "logreg.fit(X_train, Y_train)\n",
    "Y_pred = logreg.predict(X_test)\n",
    "acc_log = round(logreg.score(X_train, Y_train) * 100, 2)\n",
    "jaccard_logreg = round(jaccard_score(Y_test, Y_pred) * 100, 2)\n",
    "f1_logreg = round(f1_score(Y_test, Y_pred, average='weighted') * 100, 2)\n",
    "\n",
    "# Decision Tree\n",
    "\n",
    "decision_tree = DecisionTreeClassifier()\n",
    "decision_tree.fit(X_train, Y_train)\n",
    "Y_pred = decision_tree.predict(X_test)\n",
    "acc_decision_tree = round(decision_tree.score(X_test, Y_test) * 100, 2)\n",
    "jaccard_tree = round(jaccard_score(Y_test, Y_pred) * 100, 2)\n",
    "f1_tree = round(f1_score(Y_test, Y_pred, average='weighted') * 100, 2)\n",
    "\n",
    "# Random Forest\n",
    "\n",
    "random_forest = RandomForestClassifier(n_estimators=100)\n",
    "random_forest.fit(X_train, Y_train)\n",
    "Y_pred = random_forest.predict(X_test)\n",
    "random_forest.score(X_train, Y_train)\n",
    "acc_random_forest = round(random_forest.score(X_test, Y_test) * 100, 2)\n",
    "jaccard_rf = round(jaccard_score(Y_test, Y_pred) * 100, 2)\n",
    "f1_rf = round(f1_score(Y_test, Y_pred, average='weighted') * 100, 2)"
   ]
  },
  {
   "cell_type": "code",
   "execution_count": 17,
   "metadata": {},
   "outputs": [
    {
     "name": "stdout",
     "output_type": "stream",
     "text": [
      "Machine Learning algorithm scores with weather related conditions\n"
     ]
    },
    {
     "data": {
      "text/html": [
       "<div>\n",
       "<style scoped>\n",
       "    .dataframe tbody tr th:only-of-type {\n",
       "        vertical-align: middle;\n",
       "    }\n",
       "\n",
       "    .dataframe tbody tr th {\n",
       "        vertical-align: top;\n",
       "    }\n",
       "\n",
       "    .dataframe thead th {\n",
       "        text-align: right;\n",
       "    }\n",
       "</style>\n",
       "<table border=\"1\" class=\"dataframe\">\n",
       "  <thead>\n",
       "    <tr style=\"text-align: right;\">\n",
       "      <th></th>\n",
       "      <th>Model</th>\n",
       "      <th>Accuracy</th>\n",
       "      <th>F1 - Score</th>\n",
       "      <th>Jaccard - Score</th>\n",
       "    </tr>\n",
       "  </thead>\n",
       "  <tbody>\n",
       "    <tr>\n",
       "      <th>0</th>\n",
       "      <td>Support Vector Machines</td>\n",
       "      <td>67.80</td>\n",
       "      <td>62.13</td>\n",
       "      <td>16.27</td>\n",
       "    </tr>\n",
       "    <tr>\n",
       "      <th>2</th>\n",
       "      <td>Logistic Regression</td>\n",
       "      <td>67.01</td>\n",
       "      <td>57.50</td>\n",
       "      <td>7.23</td>\n",
       "    </tr>\n",
       "    <tr>\n",
       "      <th>4</th>\n",
       "      <td>Decision Tree</td>\n",
       "      <td>66.47</td>\n",
       "      <td>61.68</td>\n",
       "      <td>17.01</td>\n",
       "    </tr>\n",
       "    <tr>\n",
       "      <th>3</th>\n",
       "      <td>Random Forest</td>\n",
       "      <td>66.34</td>\n",
       "      <td>62.33</td>\n",
       "      <td>18.89</td>\n",
       "    </tr>\n",
       "    <tr>\n",
       "      <th>1</th>\n",
       "      <td>KNN</td>\n",
       "      <td>64.45</td>\n",
       "      <td>61.28</td>\n",
       "      <td>19.13</td>\n",
       "    </tr>\n",
       "  </tbody>\n",
       "</table>\n",
       "</div>"
      ],
      "text/plain": [
       "                     Model  Accuracy  F1 - Score  Jaccard - Score\n",
       "0  Support Vector Machines     67.80       62.13            16.27\n",
       "2      Logistic Regression     67.01       57.50             7.23\n",
       "4            Decision Tree     66.47       61.68            17.01\n",
       "3            Random Forest     66.34       62.33            18.89\n",
       "1                      KNN     64.45       61.28            19.13"
      ]
     },
     "execution_count": 17,
     "metadata": {},
     "output_type": "execute_result"
    }
   ],
   "source": [
    "#print out the performance for each of the models\n",
    "print(\"Machine Learning algorithm scores with weather related conditions\")\n",
    "models = pd.DataFrame({\n",
    "    'Model': ['Support Vector Machines', 'KNN', 'Logistic Regression', \n",
    "              'Random Forest', 'Decision Tree'],\n",
    "    'Accuracy': [acc_svc, acc_knn, acc_log, \n",
    "              acc_random_forest, acc_decision_tree],\n",
    "    'F1 - Score': [f1_svc, f1_knn, f1_logreg, \n",
    "              f1_rf, f1_tree],\n",
    "    'Jaccard - Score': [jaccard_svc, jaccard_knn, jaccard_logreg, \n",
    "              jaccard_rf, jaccard_tree]})\n",
    "models.sort_values(by='Accuracy', ascending=False)"
   ]
  }
 ],
 "metadata": {
  "kernelspec": {
   "display_name": "Python 3",
   "language": "python",
   "name": "python3"
  },
  "language_info": {
   "codemirror_mode": {
    "name": "ipython",
    "version": 3
   },
   "file_extension": ".py",
   "mimetype": "text/x-python",
   "name": "python",
   "nbconvert_exporter": "python",
   "pygments_lexer": "ipython3",
   "version": "3.6.5"
  }
 },
 "nbformat": 4,
 "nbformat_minor": 2
}
